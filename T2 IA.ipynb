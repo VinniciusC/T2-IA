{
 "cells": [
  {
   "cell_type": "code",
   "execution_count": 14,
   "metadata": {},
   "outputs": [],
   "source": [
    "from sklearn.cluster import KMeans\n",
    "import numpy as np\n",
    "import pandas as pd"
   ]
  },
  {
   "cell_type": "code",
   "execution_count": 15,
   "metadata": {},
   "outputs": [],
   "source": [
    "dataset = pd.read_csv(\"data.csv\")\n",
    "X = np.array(dataset.drop(['artist','song_title','target', 'id', 'Unnamed: 17'], axis=1))\n"
   ]
  },
  {
   "cell_type": "code",
   "execution_count": 16,
   "metadata": {},
   "outputs": [
    {
     "name": "stdout",
     "output_type": "stream",
     "text": [
      "[[1.02000e-02 8.33000e+02 2.04600e+05 ... 1.50062e+05 4.00000e+00\n",
      "  2.86000e+02]\n",
      " [1.99000e+02 7.43000e+02 3.26933e+05 ... 1.60083e+05 4.00000e+00\n",
      "  5.88000e+02]\n",
      " [3.44000e-02 8.38000e+02 1.85707e+05 ... 7.50440e+04 4.00000e+00\n",
      "  1.73000e+02]\n",
      " ...\n",
      " [8.57000e-03 6.37000e+02 2.07200e+05 ... 1.50082e+05 4.00000e+00\n",
      "  4.70000e-01]\n",
      " [1.64000e-03 5.57000e+02 1.85600e+05 ... 1.50011e+05 4.00000e+00\n",
      "  6.23000e+02]\n",
      " [2.81000e-03 4.46000e+02 2.04520e+05 ... 1.90013e+05 4.00000e+00\n",
      "  4.02000e+02]]\n"
     ]
    }
   ],
   "source": [
    "dataset.head(10)\n",
    "print(X)\n",
    "kmeans = KMeans(n_clusters=10, random_state=0).fit(X)"
   ]
  },
  {
   "cell_type": "code",
   "execution_count": null,
   "metadata": {},
   "outputs": [],
   "source": []
  }
 ],
 "metadata": {
  "kernelspec": {
   "display_name": "Python 3",
   "language": "python",
   "name": "python3"
  },
  "language_info": {
   "codemirror_mode": {
    "name": "ipython",
    "version": 3
   },
   "file_extension": ".py",
   "mimetype": "text/x-python",
   "name": "python",
   "nbconvert_exporter": "python",
   "pygments_lexer": "ipython3",
   "version": "3.6.5"
  }
 },
 "nbformat": 4,
 "nbformat_minor": 2
}
